{
    "cells": [
        {
            "cell_type": "code",
            "execution_count": 1,
            "metadata": {},
            "outputs": [
                {
                    "data": {
                        "text/html": "<div>\n<style scoped>\n    .dataframe tbody tr th:only-of-type {\n        vertical-align: middle;\n    }\n\n    .dataframe tbody tr th {\n        vertical-align: top;\n    }\n\n    .dataframe thead th {\n        text-align: right;\n    }\n</style>\n<table border=\"1\" class=\"dataframe\">\n  <thead>\n    <tr style=\"text-align: right;\">\n      <th></th>\n      <th>outlook</th>\n      <th>temperature</th>\n      <th>humidity</th>\n      <th>windy</th>\n      <th>play</th>\n    </tr>\n  </thead>\n  <tbody>\n    <tr>\n      <th>0</th>\n      <td>overcast</td>\n      <td>hot</td>\n      <td>high</td>\n      <td>False</td>\n      <td>yes</td>\n    </tr>\n    <tr>\n      <th>1</th>\n      <td>overcast</td>\n      <td>cool</td>\n      <td>normal</td>\n      <td>True</td>\n      <td>yes</td>\n    </tr>\n    <tr>\n      <th>2</th>\n      <td>overcast</td>\n      <td>mild</td>\n      <td>high</td>\n      <td>True</td>\n      <td>yes</td>\n    </tr>\n    <tr>\n      <th>3</th>\n      <td>overcast</td>\n      <td>hot</td>\n      <td>normal</td>\n      <td>False</td>\n      <td>yes</td>\n    </tr>\n    <tr>\n      <th>4</th>\n      <td>rainy</td>\n      <td>mild</td>\n      <td>high</td>\n      <td>False</td>\n      <td>yes</td>\n    </tr>\n  </tbody>\n</table>\n</div>",
                        "text/plain": "    outlook temperature humidity  windy play\n0  overcast         hot     high  False  yes\n1  overcast        cool   normal   True  yes\n2  overcast        mild     high   True  yes\n3  overcast         hot   normal  False  yes\n4     rainy        mild     high  False  yes"
                    },
                    "execution_count": 1,
                    "metadata": {},
                    "output_type": "execute_result"
                }
            ],
            "source": "# The code was removed by Watson Studio for sharing."
        },
        {
            "cell_type": "code",
            "execution_count": null,
            "metadata": {},
            "outputs": [],
            "source": ""
        }
    ],
    "metadata": {
        "kernelspec": {
            "display_name": "Python 3.6",
            "language": "python",
            "name": "python3"
        },
        "language_info": {
            "codemirror_mode": {
                "name": "ipython",
                "version": 3
            },
            "file_extension": ".py",
            "mimetype": "text/x-python",
            "name": "python",
            "nbconvert_exporter": "python",
            "pygments_lexer": "ipython3",
            "version": "3.6.9"
        }
    },
    "nbformat": 4,
    "nbformat_minor": 1
}